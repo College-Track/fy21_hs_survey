{
 "cells": [
  {
   "cell_type": "markdown",
   "metadata": {},
   "source": [
    "## fy21_hs_survey\n",
    "\n",
    "Project for the FY21 HS Survey\n",
    "\n",
    "### Data Sources\n",
    "- file1 : Link to SF Report\n",
    "- file2:  Link to SF Report (As Needed)\n",
    "- file3:  Link to SF Report (As Needed)\n",
    "\n",
    "### Changes\n",
    "- 02-08-2021 : Started project"
   ]
  },
  {
   "cell_type": "code",
   "execution_count": null,
   "metadata": {},
   "outputs": [],
   "source": [
    "# ALWAYS RUN\n",
    "# General Setup \n",
    "\n",
    "%load_ext dotenv\n",
    "%dotenv\n",
    "%load_ext nb_black\n",
    "\n",
    "from salesforce_reporting import Connection, ReportParser\n",
    "import pandas as pd\n",
    "from pathlib import Path\n",
    "from datetime import datetime\n",
    "import helpers\n",
    "import os\n",
    "import numpy as np\n",
    "from reportforce import Reportforce\n",
    "\n",
    "\n",
    "SF_PASS = os.environ.get(\"SF_PASS\")\n",
    "SF_TOKEN = os.environ.get(\"SF_TOKEN\")\n",
    "SF_USERNAME = os.environ.get(\"SF_USERNAME\")\n",
    "\n",
    "sf = Reportforce(username=SF_USERNAME, password=SF_PASS, security_token=SF_TOKEN)"
   ]
  },
  {
   "cell_type": "markdown",
   "metadata": {},
   "source": [
    "### File Locations"
   ]
  },
  {
   "cell_type": "code",
   "execution_count": null,
   "metadata": {},
   "outputs": [],
   "source": [
    "# ALWAYS RUN\n",
    "today = datetime.today()\n",
    "\n",
    "\n",
    "in_file1 = Path.cwd() / \"data\" / \"raw\" / \"sf_output_file1.csv\"\n",
    "summary_file = Path.cwd() / \"data\" / \"processed\" / \"processed_data.pkl\"\n",
    "\n",
    "\n",
    "in_file2 = Path.cwd() / \"data\" / \"raw\" / \"sf_output_file2.csv\"\n",
    "summary_file2 = Path.cwd() / \"data\" / \"processed\" / \"processed_data_file2.pkl\"\n",
    "\n",
    "\n",
    "in_file3 = Path.cwd() / \"data\" / \"raw\" / \"sf_output_file3.csv\"\n",
    "summary_file3 = Path.cwd() / \"data\" / \"processed\" / \"processed_data_file3.pkl\"\n",
    "\n",
    "\n",
    "in_file4 = Path.cwd() / \"data\" / \"raw\" / \"sf_output_file4.csv\"\n",
    "summary_file4 = Path.cwd() / \"data\" / \"processed\" / \"processed_data_file4.pkl\""
   ]
  },
  {
   "cell_type": "markdown",
   "metadata": {},
   "source": [
    "### Load Report From Salesforce"
   ]
  },
  {
   "cell_type": "code",
   "execution_count": null,
   "metadata": {},
   "outputs": [],
   "source": [
    "# Run if downloading report from salesforce\n",
    "# File 1 \n",
    "report_id_file1 = \"SF_REPORT_ID\"\n",
    "file_1_id_column = '18 Digit ID' # adjust as needed\n",
    "sf_df = sf.get_report(report_id_file1, id_column=file_1_id_column)\n",
    "\n",
    "\n",
    "\n",
    "# File 2 (As needed)\n",
    "# report_id_file2 = \"SF_REPORT_ID\"\n",
    "# file_2_id_column = '18 Digit ID' # adjust as needed\n",
    "# sf_df_file2 =  sf.get_report(report_id_file2, id_column=file_2_id_column)\n",
    "\n",
    "# File 3 (As needed)\n",
    "# report_id_file3 = \"SF_REPORT_ID\"\n",
    "# file_3_id_column = '18 Digit ID' # adjust as needed\n",
    "# sf_df_file3 =  sf.get_report(report_id_file3, id_column=file_3_id_column)\n"
   ]
  },
  {
   "cell_type": "markdown",
   "metadata": {},
   "source": [
    "#### Save report as CSV"
   ]
  },
  {
   "cell_type": "code",
   "execution_count": null,
   "metadata": {},
   "outputs": [],
   "source": [
    "# Only run if ran above cell\n",
    "# File 1\n",
    "sf_df.to_csv(in_file1, index=False)\n",
    "\n",
    "\n",
    "# File 2 and 3 (As needed)\n",
    "# sf_df_file2.to_csv(in_file2, index=False)\n",
    "# sf_df_file3.to_csv(in_file3, index=False)\n"
   ]
  },
  {
   "cell_type": "markdown",
   "metadata": {},
   "source": [
    "### Load DF from saved CSV\n",
    "* Start here if CSV already exist "
   ]
  },
  {
   "cell_type": "code",
   "execution_count": null,
   "metadata": {},
   "outputs": [],
   "source": [
    "# ALWAYS RUN \n",
    "# Data Frame for File 1 - if using more than one file, rename df to df_file1\n",
    "df = pd.read_csv(in_file1)\n",
    "\n",
    "\n",
    "# Data Frames for File 1 and 2 (As needed)\n",
    "\n",
    "# df_file2 = pd.read_csv(in_file2)\n",
    "# df_file3 = pd.read_csv(in_file3)"
   ]
  },
  {
   "cell_type": "markdown",
   "metadata": {},
   "source": [
    "### Data Manipulation"
   ]
  },
  {
   "cell_type": "code",
   "execution_count": null,
   "metadata": {},
   "outputs": [],
   "source": [
    "# File 1\n",
    "df = helpers.shorten_site_names(df)\n",
    "df = helpers.clean_column_names(df)\n",
    "\n",
    "# File 2\n",
    "# df_file2 = helpers.shorten_site_names(df_file2)\n",
    "# df_file2 = helpers.clean_column_names(df_file2)"
   ]
  },
  {
   "cell_type": "markdown",
   "metadata": {},
   "source": [
    "### Save output file into processed directory\n",
    "\n",
    "Save a file in the processed directory that is cleaned properly. It will be read in and used later for further analysis."
   ]
  },
  {
   "cell_type": "code",
   "execution_count": null,
   "metadata": {},
   "outputs": [],
   "source": [
    "# Save File 1 Data Frame (Or master df)\n",
    "df.to_pickle(summary_file)"
   ]
  }
 ],
 "metadata": {
  "hide_input": false,
  "kernelspec": {
   "display_name": "Python 3",
   "language": "python",
   "name": "python3"
  },
  "language_info": {
   "codemirror_mode": {
    "name": "ipython",
    "version": 3
   },
   "file_extension": ".py",
   "mimetype": "text/x-python",
   "name": "python",
   "nbconvert_exporter": "python",
   "pygments_lexer": "ipython3",
   "version": "3.7.4"
  },
  "toc": {
   "base_numbering": 1,
   "nav_menu": {},
   "number_sections": true,
   "sideBar": true,
   "skip_h1_title": false,
   "title_cell": "Table of Contents",
   "title_sidebar": "Contents",
   "toc_cell": false,
   "toc_position": {},
   "toc_section_display": true,
   "toc_window_display": false
  }
 },
 "nbformat": 4,
 "nbformat_minor": 4
}
